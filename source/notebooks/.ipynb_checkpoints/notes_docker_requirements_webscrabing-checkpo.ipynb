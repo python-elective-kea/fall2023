{
 "cells": [
  {
   "cell_type": "markdown",
   "metadata": {
    "slideshow": {
     "slide_type": "slide"
    }
   },
   "source": [
    "# Docker, dockerfile & requirements.txt"
   ]
  },
  {
   "cell_type": "markdown",
   "metadata": {
    "slideshow": {
     "slide_type": "slide"
    }
   },
   "source": [
    "````\n",
    "    # pip list\n",
    "    Package    Version\n",
    "    ---------- -------\n",
    "    pip        20.1.1\n",
    "    setuptools 46.4.0\n",
    "    wheel      0.34.2\n",
    "    \n",
    "    # pip install requests\n",
    "    \n",
    "    # pip list\n",
    "    Package    Version\n",
    "    ---------- ---------\n",
    "    certifi    2020.6.20\n",
    "    chardet    3.0.4\n",
    "    idna       2.10\n",
    "    pip        20.1.1\n",
    "    requests   2.24.0\n",
    "    setuptools 46.4.0\n",
    "    urllib3    1.25.10\n",
    "    wheel      0.34.2\n",
    "\n",
    "````"
   ]
  },
  {
   "cell_type": "markdown",
   "metadata": {
    "slideshow": {
     "slide_type": "slide"
    }
   },
   "source": [
    "## requirements.txt"
   ]
  },
  {
   "cell_type": "markdown",
   "metadata": {
    "slideshow": {
     "slide_type": "-"
    }
   },
   "source": [
    "````\n",
    "    certifi==2020.6.20\n",
    "    chardet==3.0.4\n",
    "    idna==2.10\n",
    "    requests==2.24.0\n",
    "    urllib3==1.25.10\n",
    "\n",
    "````"
   ]
  },
  {
   "cell_type": "markdown",
   "metadata": {
    "slideshow": {
     "slide_type": "-"
    }
   },
   "source": [
    "Install the listed modules in reuirements.txt\n",
    "\n",
    "````\n",
    "    # pip install -r requirements.txt\n",
    "````\n"
   ]
  },
  {
   "cell_type": "markdown",
   "metadata": {
    "slideshow": {
     "slide_type": "slide"
    }
   },
   "source": [
    "## Generate a requirements.txt from your container"
   ]
  },
  {
   "cell_type": "markdown",
   "metadata": {
    "slideshow": {
     "slide_type": "-"
    }
   },
   "source": [
    "````\n",
    "    # pip freeze > requirements.txt\n",
    "\n",
    "````\n"
   ]
  },
  {
   "cell_type": "markdown",
   "metadata": {
    "slideshow": {
     "slide_type": "slide"
    }
   },
   "source": [
    "# Docker Image & requirements.txt"
   ]
  },
  {
   "cell_type": "markdown",
   "metadata": {
    "slideshow": {
     "slide_type": "-"
    }
   },
   "source": [
    "You can create your own dockerfile and in this include the command: \n",
    "\n",
    "````\n",
    "     RUN pip install -r requirements.txt\n",
    "````"
   ]
  },
  {
   "cell_type": "markdown",
   "metadata": {
    "slideshow": {
     "slide_type": "slide"
    }
   },
   "source": [
    "        **Dockerfile**\n",
    "\n",
    "\n",
    "\n",
    "````\n",
    "    # the base image\n",
    "    FROM python:3.8-alpine\n",
    "    \n",
    "    # copy all files from dir with Dockerfile and requirements.txt to /app folder in image\n",
    "    COPY . /app\n",
    "    \n",
    "    # cd into /app folder with (in this case only) the requirements.txt\n",
    "    WORKDIR /app\n",
    "    \n",
    "    # install python modules\n",
    "    RUN pip install -r requirements.txt\n",
    "     \n",
    "    # Change into / as startingpoint of container\n",
    "    WORKDIR /\n",
    "    \n",
    "    # when container runs it should start in a ash terminal\n",
    "    CMD [\"ash\"]\n",
    "\n",
    "````"
   ]
  },
  {
   "cell_type": "markdown",
   "metadata": {
    "slideshow": {
     "slide_type": "slide"
    }
   },
   "source": [
    "# Github, Dockerfile & requirements.txt"
   ]
  },
  {
   "cell_type": "markdown",
   "metadata": {
    "slideshow": {
     "slide_type": "-"
    }
   },
   "source": [
    "````\n",
    "    .\n",
    "    ├── .gitignore\n",
    "    ├── Dockerfile\n",
    "    ├── modules\n",
    "    │   ├── bar.py\n",
    "    │   ├── foo.py\n",
    "    │   └── util.py\n",
    "    ├── requirements.txt\n",
    "    └── script.py\n",
    "\n",
    "````"
   ]
  },
  {
   "cell_type": "markdown",
   "metadata": {
    "slideshow": {
     "slide_type": "slide"
    }
   },
   "source": [
    "## Ex 1: Clone, build and run\n",
    "\n",
    "* Clone this repository:   \n",
    "    * git clone https://github.com/python-elective-kea/clbo-alpine-dev-env.git\n",
    "* Build an Image based on the repositorys Dockerfile.   \n",
    "    * ```docker build --tag clbo/python```\n",
    "* Run a container based on this image\n",
    "    * ```docker run -it --rm -v ${PWD}:/docs clbo/python```"
   ]
  },
  {
   "cell_type": "code",
   "execution_count": null,
   "metadata": {
    "slideshow": {
     "slide_type": "skip"
    }
   },
   "outputs": [],
   "source": []
  }
 ],
 "metadata": {
  "celltoolbar": "Slideshow",
  "kernelspec": {
   "display_name": "Python 3",
   "language": "python",
   "name": "python3"
  },
  "language_info": {
   "codemirror_mode": {
    "name": "ipython",
    "version": 3
   },
   "file_extension": ".py",
   "mimetype": "text/x-python",
   "name": "python",
   "nbconvert_exporter": "python",
   "pygments_lexer": "ipython3",
   "version": "3.8.5"
  }
 },
 "nbformat": 4,
 "nbformat_minor": 4
}
