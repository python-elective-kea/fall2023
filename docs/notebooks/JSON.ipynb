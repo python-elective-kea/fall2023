{
 "cells": [
  {
   "attachments": {},
   "cell_type": "markdown",
   "metadata": {},
   "source": [
    "# Working With JSON Data in Python"
   ]
  },
  {
   "attachments": {},
   "cell_type": "markdown",
   "metadata": {},
   "source": [
    "## Reading JSON"
   ]
  },
  {
   "cell_type": "code",
   "execution_count": 2,
   "metadata": {},
   "outputs": [],
   "source": [
    "import json"
   ]
  },
  {
   "attachments": {},
   "cell_type": "markdown",
   "metadata": {},
   "source": [
    "### json.load\n",
    "Reads from a file path / object"
   ]
  },
  {
   "cell_type": "code",
   "execution_count": 3,
   "metadata": {},
   "outputs": [
    {
     "name": "stdout",
     "output_type": "stream",
     "text": [
      "[{'animal': {'name': 'Henning', 'species': 'House Cat', 'relatives': [{'name': 'Fluffy', 'species': 'Norwegian Forrest'}]}}, {'animal': {'name': 'Fido', 'species': 'Dog', 'relatives': [{'name': 'Jeff', 'species': 'Puddle'}, {'name': 'Minna', 'species': 'Labrador'}]}}]\n"
     ]
    }
   ],
   "source": [
    "with open('testfiles/animals.json', 'r') as f:\n",
    "    json_list = json.load(f) \n",
    "\n",
    "print(json_list)"
   ]
  },
  {
   "cell_type": "code",
   "execution_count": 4,
   "metadata": {},
   "outputs": [
    {
     "data": {
      "text/plain": [
       "[[{'name': 'Fluffy', 'species': 'Norwegian Forrest'}],\n",
       " [{'name': 'Jeff', 'species': 'Puddle'},\n",
       "  {'name': 'Minna', 'species': 'Labrador'}]]"
      ]
     },
     "execution_count": 4,
     "metadata": {},
     "output_type": "execute_result"
    }
   ],
   "source": [
    "[i['animal']['relatives'] for i in json_list]"
   ]
  },
  {
   "attachments": {},
   "cell_type": "markdown",
   "metadata": {},
   "source": [
    "### json.loads\n",
    "Reads the content of the file"
   ]
  },
  {
   "cell_type": "code",
   "execution_count": 5,
   "metadata": {},
   "outputs": [
    {
     "name": "stdout",
     "output_type": "stream",
     "text": [
      "[{'animal': {'name': 'Henning', 'species': 'House Cat', 'relatives': [{'name': 'Fluffy', 'species': 'Norwegian Forrest'}]}}, {'animal': {'name': 'Fido', 'species': 'Dog', 'relatives': [{'name': 'Jeff', 'species': 'Puddle'}, {'name': 'Minna', 'species': 'Labrador'}]}}]\n"
     ]
    }
   ],
   "source": [
    "with open('testfiles/animals.json', 'r') as f:\n",
    "    txt = f.read()\n",
    "    js = json.loads(txt)\n",
    "    \n",
    "print(js)"
   ]
  },
  {
   "cell_type": "code",
   "execution_count": 6,
   "metadata": {},
   "outputs": [
    {
     "data": {
      "text/plain": [
       "[[{'name': 'Fluffy', 'species': 'Norwegian Forrest'}],\n",
       " [{'name': 'Jeff', 'species': 'Puddle'},\n",
       "  {'name': 'Minna', 'species': 'Labrador'}]]"
      ]
     },
     "execution_count": 6,
     "metadata": {},
     "output_type": "execute_result"
    }
   ],
   "source": [
    "[i['animal']['relatives'] for i in js]"
   ]
  },
  {
   "attachments": {},
   "cell_type": "markdown",
   "metadata": {},
   "source": [
    "## Writing JSON"
   ]
  },
  {
   "attachments": {},
   "cell_type": "markdown",
   "metadata": {},
   "source": [
    "### json.dumps\n",
    "Serialize obj to a JSON formatted str"
   ]
  },
  {
   "cell_type": "code",
   "execution_count": 7,
   "metadata": {},
   "outputs": [],
   "source": [
    "dict = {'name' : 'Claus', 'age' : 120, 'cpr' : 1234}\n",
    "with open('testfiles/students.json', 'w') as f:\n",
    "    js =json.dumps(dict)\n",
    "    f.write(js)"
   ]
  },
  {
   "cell_type": "code",
   "execution_count": 8,
   "metadata": {},
   "outputs": [
    {
     "name": "stdout",
     "output_type": "stream",
     "text": [
      "{'name': 'Claus', 'age': 120, 'cpr': 1234}\n"
     ]
    }
   ],
   "source": [
    "with open('testfiles/students.json', 'r') as f:\n",
    "    js = json.load(f)  \n",
    "print(js)"
   ]
  },
  {
   "attachments": {},
   "cell_type": "markdown",
   "metadata": {},
   "source": [
    "### json.dump\n",
    "Serialize obj as a JSON formatted stream to fp (a .write()-supporting file-like object)"
   ]
  },
  {
   "cell_type": "code",
   "execution_count": 9,
   "metadata": {},
   "outputs": [],
   "source": [
    "from io import StringIO\n",
    "io = StringIO()\n",
    "teachers = [{'name' : 'Claus', 'age' : 120}, {}]\n",
    "with open('testfiles/teachers.json', 'w') as f:\n",
    "    json.dump(teachers, io)\n",
    "    f.write(io.getvalue())"
   ]
  },
  {
   "cell_type": "code",
   "execution_count": 10,
   "metadata": {},
   "outputs": [
    {
     "name": "stdout",
     "output_type": "stream",
     "text": [
      "[{'name': 'Claus', 'age': 120}, {}]\n"
     ]
    }
   ],
   "source": [
    "with open('testfiles/teachers.json', 'r') as f:\n",
    "    js = json.load(f)  \n",
    "print(js)"
   ]
  },
  {
   "attachments": {},
   "cell_type": "markdown",
   "metadata": {},
   "source": [
    "## 10 minutes exercise "
   ]
  },
  {
   "attachments": {},
   "cell_type": "markdown",
   "metadata": {},
   "source": [
    "1. From this api https://api.github.com/orgs/python-elective-fall-2019/repos get all names of the repos and write them to a text file.  \n",
    "\n",
    "2. Get all filenames of files ending with **.ipynb** in the **code_examples** folder in the Lesson-09-context-managers repository. "
   ]
  },
  {
   "cell_type": "code",
   "execution_count": 11,
   "metadata": {},
   "outputs": [],
   "source": []
  }
 ],
 "metadata": {
  "kernelspec": {
   "display_name": "Python 3",
   "language": "python",
   "name": "python3"
  },
  "language_info": {
   "codemirror_mode": {
    "name": "ipython",
    "version": 3
   },
   "file_extension": ".py",
   "mimetype": "text/x-python",
   "name": "python",
   "nbconvert_exporter": "python",
   "pygments_lexer": "ipython3",
   "version": "3.11.3"
  },
  "toc": {
   "base_numbering": 1,
   "nav_menu": {},
   "number_sections": true,
   "sideBar": true,
   "skip_h1_title": true,
   "title_cell": "Working With JSON Data in Python",
   "title_sidebar": "Contents",
   "toc_cell": false,
   "toc_position": {},
   "toc_section_display": true,
   "toc_window_display": false
  }
 },
 "nbformat": 4,
 "nbformat_minor": 2
}
